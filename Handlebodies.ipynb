{
 "cells": [
  {
   "cell_type": "code",
   "execution_count": 5,
   "metadata": {},
   "outputs": [],
   "source": [
    "from handlebodies import Genus2Handlebody"
   ]
  },
  {
   "cell_type": "code",
   "execution_count": null,
   "metadata": {
    "scrolled": false
   },
   "outputs": [],
   "source": [
    "for r in range(8):\n",
    "    for s in range(8):\n",
    "        for t in range(8):\n",
    "            H1 = Genus2Handlebody([(7,r),(7,s),(7,t)])\n",
    "            H1.SFH_polytope()"
   ]
  },
  {
   "cell_type": "code",
   "execution_count": 6,
   "metadata": {},
   "outputs": [
    {
     "data": {
      "application/vnd.jupyter.widget-view+json": {
       "model_id": "c2144e3cac744c979b6f0cc2859e0686",
       "version_major": 2,
       "version_minor": 0
      },
      "text/plain": [
       "Interactive function <function _ at 0x6fe38503b70> with 3 widgets\n",
       "  r: IntSlider(value=3, description='r', max…"
      ]
     },
     "metadata": {},
     "output_type": "display_data"
    }
   ],
   "source": [
    "@interact\n",
    "def _(r=(0,7), s=(0,5), t=(0,5)):\n",
    "    H1 = Genus2Handlebody([(7,r),(5,s),(5,t)])\n",
    "    H1.SFH_plot()"
   ]
  },
  {
   "cell_type": "code",
   "execution_count": null,
   "metadata": {},
   "outputs": [],
   "source": []
  }
 ],
 "metadata": {
  "kernelspec": {
   "display_name": "SageMath 9.0",
   "language": "sage",
   "name": "sagemath"
  }
 },
 "nbformat": 4,
 "nbformat_minor": 2
}
