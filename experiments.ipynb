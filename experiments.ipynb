{
 "cells": [
  {
   "cell_type": "code",
   "execution_count": 1,
   "metadata": {},
   "outputs": [],
   "source": [
    "from sutured_graphs import SuturedGraph"
   ]
  },
  {
   "cell_type": "code",
   "execution_count": 2,
   "metadata": {},
   "outputs": [],
   "source": [
    "# Theta Graph (Genus 2 Handlebody)\n",
    "e1, e2, e3 = (8,2), (8,4), (6,0)\n",
    "\n",
    "G1 = SuturedGraph()\n",
    "G1.add_vertex('A', '+')\n",
    "G1.add_vertex('B', '+')\n",
    "G1.add_edge('A', 'B', e1)\n",
    "G1.add_edge('A', ('B', 0), e2)\n",
    "G1.add_edge('A', ('B', 0), e3)"
   ]
  },
  {
   "cell_type": "code",
   "execution_count": 4,
   "metadata": {},
   "outputs": [],
   "source": [
    "G2 = SuturedGraph()\n",
    "G2.add_vertex('A','-')\n",
    "G2.add_vertex('B','+')\n",
    "G2.add_vertex('C','-')\n",
    "G2.add_vertex('D','-')\n",
    "G2.add_edge('A', 'A', (4,0))\n",
    "G2.add_edge(('A',1), 'B', (6,-1))\n",
    "G2.add_edge('B', 'C', (6,3))\n",
    "G2.add_edge('B', 'C', (4,1))\n",
    "G2.add_edge(('C',1), 'D', (6,0))\n",
    "G2.add_edge('D', 'D', (4,0))"
   ]
  },
  {
   "cell_type": "code",
   "execution_count": 6,
   "metadata": {},
   "outputs": [],
   "source": [
    "G3 = SuturedGraph()\n",
    "G3.add_vertex('A', '+')\n",
    "G3.add_vertex('B', '-')\n",
    "G3.add_edge('A', 'A', (4,0))\n",
    "G3.add_edge('A', 'B', (4,1))\n",
    "G3.add_edge('B', 'B', (4,0))\n"
   ]
  },
  {
   "cell_type": "code",
   "execution_count": null,
   "metadata": {},
   "outputs": [],
   "source": [
    "from lowgenus import Genus2Handlebody"
   ]
  },
  {
   "cell_type": "code",
   "execution_count": null,
   "metadata": {},
   "outputs": [],
   "source": [
    "# Theta Graph (Genus 2 Handlebody)\n",
    "for t in range(4):\n",
    "    for r in range(4):\n",
    "        for s in range(3):\n",
    "            e1, e2, e3 = (2*(t+r+1), 2*(t+r+1)-1), (2*(r+s+1), 2*(r+s+1)-1), (2*(s+t+1), 2*(s+t+1)-1)\n",
    "\n",
    "            G4 = SuturedGraph()\n",
    "            G4.add_vertex('A', '+')\n",
    "            G4.add_vertex('B', '-')\n",
    "            G4.add_edge('A', 'B', e1)\n",
    "            G4.add_edge('A', ('B', 0), e2)\n",
    "            G4.add_edge('A', ('B', 0), e3)\n",
    "\n",
    "            SFH_ranks = {}\n",
    "            for a, b in G4.SFH_ranks:\n",
    "                SFH_ranks[(b,a)] = G4.SFH_ranks[(a,b)]\n",
    "\n",
    "            H1 = Genus2Handlebody((e1,e2,e3))\n",
    "            print(H1.SFH_ranks == SFH_ranks)"
   ]
  },
  {
   "cell_type": "code",
   "execution_count": 1,
   "metadata": {},
   "outputs": [],
   "source": [
    "from constructors import DDEdge"
   ]
  },
  {
   "cell_type": "code",
   "execution_count": 2,
   "metadata": {},
   "outputs": [],
   "source": [
    "M = DDEdge(8,-1,'-')"
   ]
  },
  {
   "cell_type": "code",
   "execution_count": 3,
   "metadata": {},
   "outputs": [
    {
     "name": "stdout",
     "output_type": "stream",
     "text": [
      "Generators (13, overlap False)\n",
      "a\t [∅, ∅]\n",
      "b\t [(1), (1)]\n",
      "c\t [(1), (2)]\n",
      "d\t [(2), (2)]\n",
      "e\t [(2), (3)]\n",
      "f\t [(1 2), (1 2)]\n",
      "g\t [(1 2), (1 3)]\n",
      "h\t [(1 2), (2 3)]\n",
      "i\t [(3), (3)]\n",
      "j\t [(1 3), (1 3)]\n",
      "k\t [(1 3), (2 3)]\n",
      "l\t [(2 3), (2 3)]\n",
      "m\t [(1 2 3), (1 2 3)]\n",
      "\n",
      "Operations\n",
      "μ(〈b〉) = (1 ↦ 2) 〈c〉 ∙\n",
      "μ(〈d〉) = ∙ 〈c〉 (1 ↦ 2)\n",
      "μ(〈d〉) = (2 ↦ 3) 〈e〉 ∙\n",
      "μ(〈f〉) = (1 2 ↦ 1 3) 〈g〉 ∙\n",
      "μ(〈g〉) = (1 3 ↦ 2 3) 〈h〉 ∙\n",
      "μ(〈i〉) = ∙ 〈e〉 (2 ↦ 3)\n",
      "μ(〈j〉) = ∙ 〈g〉 (1 2 ↦ 1 3)\n",
      "μ(〈j〉) = (1 3 ↦ 2 3) 〈k〉 ∙\n",
      "μ(〈k〉) = ∙ 〈h〉 (1 2 ↦ 1 3)\n",
      "μ(〈l〉) = ∙ 〈k〉 (1 3 ↦ 2 3)\n",
      "\n"
     ]
    }
   ],
   "source": [
    "M.show()"
   ]
  },
  {
   "cell_type": "code",
   "execution_count": null,
   "metadata": {},
   "outputs": [],
   "source": []
  }
 ],
 "metadata": {
  "interpreter": {
   "hash": "d0e9d5b8413f815d9326963a0e722ca32f452aa87faeb481dab093b40c9dab32"
  },
  "kernelspec": {
   "display_name": "Python 3.10.0 ('.venv': venv)",
   "language": "python",
   "name": "python3"
  },
  "language_info": {
   "codemirror_mode": {
    "name": "ipython",
    "version": 3
   },
   "file_extension": ".py",
   "mimetype": "text/x-python",
   "name": "python",
   "nbconvert_exporter": "python",
   "pygments_lexer": "ipython3",
   "version": "3.10.0"
  },
  "orig_nbformat": 4
 },
 "nbformat": 4,
 "nbformat_minor": 2
}
