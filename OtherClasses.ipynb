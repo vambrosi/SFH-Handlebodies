{
 "cells": [
  {
   "attachments": {},
   "cell_type": "markdown",
   "metadata": {},
   "source": [
    "## Homology of the Strands Algebra\n",
    "\n",
    "`HomologyGenerator`s are elements of the homology of the strands algebra. \n",
    "\n",
    "The function `H(S,T)` gives the strands diagram $a = (S,T,\\phi)$ such that $\\phi$ is strictly increasing. We consider this diagram as an element of the homology, so it is zero when $a$ has overlapping strands. Sets of positive integers are encoded using integers: $5 = 1 \\times 2^2 + 0 \\times 2^1 + 1 \\times 2^0$ encodes the set $\\{1,3\\}$."
   ]
  },
  {
   "cell_type": "code",
   "execution_count": 2,
   "metadata": {},
   "outputs": [],
   "source": [
    "from homology import H, I"
   ]
  },
  {
   "cell_type": "code",
   "execution_count": 5,
   "metadata": {},
   "outputs": [
    {
     "data": {
      "text/plain": [
       "(1 3 ↦ 1 4)"
      ]
     },
     "execution_count": 5,
     "metadata": {},
     "output_type": "execute_result"
    }
   ],
   "source": [
    "# Example of how strands diagrams are printed\n",
    "a = H(0b0101,0b1001) # 5 = 0b0101 and 9 = 0b1001 (0b means \"number with binary expansion\") \n",
    "print(a)"
   ]
  },
  {
   "cell_type": "code",
   "execution_count": 17,
   "metadata": {},
   "outputs": [
    {
     "name": "stdout",
     "output_type": "stream",
     "text": [
      "Is (1 2 ↦ 2 3) zero?\t True\n",
      "Is (1 ↦ 1 3) zero?  \t True\n",
      "Is (1 3 ↦ 1 2) zero?\t True\n"
     ]
    }
   ],
   "source": [
    "# H(S,T) is equal to zero if there are overlapping strands,\n",
    "# or if there are no strands diagrams from S to T.\n",
    "\n",
    "print(f'Is (1 2 ↦ 2 3) equal zero?\\t', H(0b011,0b110) == 0) # it has overlap\n",
    "print(f'Is (1 ↦ 1 3) equal zero?  \\t', H(0b001,0b110) == 0) # sets have different sizes\n",
    "print(f'Is (1 3 ↦ 1 2) equal zero?\\t', H(0b101,0b011) == 0) # strands are not upward-veering"
   ]
  },
  {
   "cell_type": "code",
   "execution_count": 18,
   "metadata": {},
   "outputs": [
    {
     "data": {
      "text/plain": [
       "(1 3)"
      ]
     },
     "execution_count": 18,
     "metadata": {},
     "output_type": "execute_result"
    }
   ],
   "source": [
    "# The function I(S) gives the idempotent corresponding to S\n",
    "I(0b101)"
   ]
  },
  {
   "cell_type": "code",
   "execution_count": 33,
   "metadata": {},
   "outputs": [
    {
     "name": "stdout",
     "output_type": "stream",
     "text": [
      "(1 3)*(1 3 ↦ 2 3)*(2 3) is equal to (1 3 ↦ 2 3)\n",
      "(1 3 ↦ 1 4)*(1 4 ↦ 2 4) is equal to (1 3 ↦ 2 4)\n",
      "(1 2 ↦ 1 3)*(1 3 ↦ 2 3) is equal to 0\n"
     ]
    }
   ],
   "source": [
    "# Products are defined by the rule:\n",
    "# (1) H(S,T)*H(T,U) = H(S,U) if the right-hand side is  in the homology;\n",
    "# (2) Otherwise the product returns 0 (the integer).\n",
    "\n",
    "a1 = I(0b101)\n",
    "b1 = H(0b101, 0b110)\n",
    "c1 = I(0b110)\n",
    "\n",
    "print(f'{a1}*{b1}*{c1} is equal to {a1*b1*c1}')\n",
    "\n",
    "a2 = H(0b0101,0b1001)\n",
    "b2 = H(0b1001, 0b1010)\n",
    "\n",
    "print(f'{a2}*{b2} is equal to {a2*b2}')\n",
    "\n",
    "a3 = H(0b011,0b101)\n",
    "b3 = H(0b101, 0b110)\n",
    "\n",
    "print(f'{a3}*{b3} is equal to {a3*b3}')"
   ]
  },
  {
   "cell_type": "code",
   "execution_count": 39,
   "metadata": {},
   "outputs": [
    {
     "name": "stdout",
     "output_type": "stream",
     "text": [
      "How many strands does (1 2 5 ↦ 1 4 6) have? \t 3\n",
      "Is (1 2 5 ↦ 1 4 6) an idempotent? \t\t False\n",
      "Is (1 3) an idempotent? \t\t\t True\n"
     ]
    }
   ],
   "source": [
    "# Also, there are some auxiliary functions:\n",
    "\n",
    "# Strands counting\n",
    "a = H(0b010011,0b101001)\n",
    "print(f'How many strands does {a} have? \\t {a.count_chords()}')\n",
    "\n",
    "# Is it an idempotent or not?\n",
    "print(f'Is {a} an idempotent? \\t\\t {a.is_idempotent()}')\n",
    "b = H(0b101,0b101)\n",
    "print(f'Is {b} an idempotent? \\t\\t\\t {b.is_idempotent()}')"
   ]
  },
  {
   "attachments": {},
   "cell_type": "markdown",
   "metadata": {},
   "source": [
    "## Multimodules"
   ]
  },
  {
   "attachments": {},
   "cell_type": "markdown",
   "metadata": {},
   "source": [
    "The multimodules that are relevant to compute SFH of sutured handlebodies are the DD and AA invariants of twists (edge of a sutured graph G), and the DDD invariant associated with a product tangle (vertex of G)."
   ]
  },
  {
   "cell_type": "code",
   "execution_count": 41,
   "metadata": {},
   "outputs": [],
   "source": [
    "from constructors import DDDVertex, DDEdge, AAEdge, AAHomology"
   ]
  },
  {
   "cell_type": "code",
   "execution_count": 54,
   "metadata": {},
   "outputs": [
    {
     "name": "stdout",
     "output_type": "stream",
     "text": [
      "Generators (10, overlap False)\n",
      "a\t [∅, ∅]\n",
      "b\t [(2), (1)]\n",
      "c\t [(3), (1)]\n",
      "d\t [(3), (2)]\n",
      "e\t [(2 3), (1 2)]\n",
      "f\t [(1), (3)]\n",
      "g\t [(1 2), (1 3)]\n",
      "h\t [(1 3), (1 3)]\n",
      "i\t [(1 3), (2 3)]\n",
      "j\t [(1 2 3), (1 2 3)]\n",
      "\n",
      "Operations\n",
      "μ(〈b〉) = (2 ↦ 3) 〈c〉 ∙\n",
      "μ(〈d〉) = ∙ 〈c〉 (1 ↦ 2)\n",
      "μ(〈f〉) = (1 ↦ 2) 〈b〉 (1 ↦ 3)\n",
      "μ(〈f〉) = (1 ↦ 3) 〈d〉 (2 ↦ 3)\n",
      "μ(〈g〉) = (1 2 ↦ 1 3) 〈h〉 ∙\n",
      "μ(〈h〉) = (1 3 ↦ 2 3) 〈e〉 (1 2 ↦ 1 3)\n",
      "μ(〈i〉) = ∙ 〈h〉 (1 3 ↦ 2 3)\n",
      "\n"
     ]
    }
   ],
   "source": [
    "# Twist with 8 sutures where the markings differ by 5 positions in the right-hand direction\n",
    "# The sign denotes the sign of the marking associated with the first action\n",
    "\n",
    "M = DDEdge(8, 5, '+') # First number must be even\n",
    "M.show()\n",
    "\n",
    "# '+' markings are associated with left D actions\n",
    "# '-' markings are associated with right D actions \n",
    "\n",
    "# On the right of each generator we have the associated idempotents.\n",
    "# All the arrows are given afterwards.\n"
   ]
  },
  {
   "cell_type": "code",
   "execution_count": 47,
   "metadata": {},
   "outputs": [
    {
     "name": "stdout",
     "output_type": "stream",
     "text": [
      "Generators (5, overlap False)\n",
      "a\t [∅, ∅]\n",
      "b\t [(1), (1)]\n",
      "c\t [(2), (1)]\n",
      "d\t [(2), (2)]\n",
      "e\t [(1 2), (1 2)]\n",
      "\n",
      "Operations\n",
      "μ(〈c〉) = ∙ 〈b〉 (1 ↦ 2)\n",
      "μ(〈c〉) = (1 ↦ 2) 〈d〉 ∙\n",
      "\n"
     ]
    }
   ],
   "source": [
    "# Another example\n",
    "\n",
    "M = DDEdge(6, 7, '-')\n",
    "M.show()\n",
    "\n",
    "# Note that DDEdge(n, n+k, s) = DDEdge(n, k, s)"
   ]
  },
  {
   "cell_type": "code",
   "execution_count": 50,
   "metadata": {},
   "outputs": [
    {
     "name": "stdout",
     "output_type": "stream",
     "text": [
      "Generators (5, overlap False)\n",
      "a\t [∅, ∅]\n",
      "b\t [(1), (1)]\n",
      "c\t [(1), (2)]\n",
      "d\t [(2), (2)]\n",
      "e\t [(1 2), (1 2)]\n",
      "\n",
      "Operations\n",
      "μ([∅], 〈a〉, ∙ ) = 〈a〉\n",
      "μ(∙ , 〈a〉, [∅]) = 〈a〉\n",
      "μ([(1)], 〈b〉, ∙ ) = 〈b〉\n",
      "μ(∙ , 〈b〉, [(1)]) = 〈b〉\n",
      "μ(∙ , 〈b〉, [(1 ↦ 2)]) = 〈c〉\n",
      "μ([(1)], 〈c〉, ∙ ) = 〈c〉\n",
      "μ(∙ , 〈c〉, [(2)]) = 〈c〉\n",
      "μ([(1 ↦ 2)], 〈d〉, ∙ ) = 〈c〉\n",
      "μ([(2)], 〈d〉, ∙ ) = 〈d〉\n",
      "μ(∙ , 〈d〉, [(2)]) = 〈d〉\n",
      "μ([(1 2)], 〈e〉, ∙ ) = 〈e〉\n",
      "μ(∙ , 〈e〉, [(1 2)]) = 〈e〉\n",
      "\n"
     ]
    }
   ],
   "source": [
    "# This bimodule is associated with the smallest left-handed twist.\n",
    "# It is the bimodule given by the homology of the strands algebra.\n",
    "\n",
    "M = AAEdge(6, -1, '-')\n",
    "M.show()"
   ]
  },
  {
   "cell_type": "code",
   "execution_count": 53,
   "metadata": {},
   "outputs": [
    {
     "name": "stdout",
     "output_type": "stream",
     "text": [
      "Generators (12, overlap False)\n",
      "a\t [(2 3), (2), (2)]\n",
      "b\t [(3), (1 2), (2)]\n",
      "c\t [(2 3), (1 2), ∅]\n",
      "d\t [(2), (2), (1 2)]\n",
      "e\t [∅, (1 2), (1 2)]\n",
      "f\t [(2), (1 2), (1)]\n",
      "g\t [(1 2 3), ∅, (2)]\n",
      "h\t [(1 3), (1), (2)]\n",
      "i\t [(1 2 3), (1), ∅]\n",
      "j\t [(1 2), ∅, (1 2)]\n",
      "k\t [(1), (1), (1 2)]\n",
      "l\t [(1 2), (1), (1)]\n",
      "\n",
      "Operations\n",
      "μ(〈a〉) = 〈h〉 (1 3 ↦ 2 3)|(1 ↦ 2)|∙\n",
      "μ(〈b〉) = 〈f〉 (2 ↦ 3)|∙|(1 ↦ 2)\n",
      "μ(〈d〉) = 〈k〉 (1 ↦ 2)|(1 ↦ 2)|∙\n",
      "μ(〈h〉) = 〈l〉 (1 2 ↦ 1 3)|∙|(1 ↦ 2)\n",
      "\n"
     ]
    }
   ],
   "source": [
    "# Example of DDD module DDDVertex(a, b, c, s) associated with a vertex v.\n",
    "# The numbers a, b, c are the number of sutures intersecting each parametrized disk.\n",
    "# The sign s = '+' or '-' is the sign of all markings in the product tangle. \n",
    "\n",
    "M = DDDVertex(8, 6, 6, '-')\n",
    "M.show()\n",
    "\n",
    "# a, b, c must be even and must satisfy the triangle inequalities."
   ]
  }
 ],
 "metadata": {
  "kernelspec": {
   "display_name": "Python 3",
   "language": "python",
   "name": "python3"
  },
  "language_info": {
   "codemirror_mode": {
    "name": "ipython",
    "version": 3
   },
   "file_extension": ".py",
   "mimetype": "text/x-python",
   "name": "python",
   "nbconvert_exporter": "python",
   "pygments_lexer": "ipython3",
   "version": "3.10.0"
  },
  "orig_nbformat": 4,
  "vscode": {
   "interpreter": {
    "hash": "d0e9d5b8413f815d9326963a0e722ca32f452aa87faeb481dab093b40c9dab32"
   }
  }
 },
 "nbformat": 4,
 "nbformat_minor": 2
}
