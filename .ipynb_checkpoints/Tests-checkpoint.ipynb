{
 "cells": [
  {
   "cell_type": "code",
   "execution_count": 1,
   "metadata": {},
   "outputs": [],
   "source": [
    "from multimodules_constructors import *"
   ]
  },
  {
   "cell_type": "code",
   "execution_count": 2,
   "metadata": {},
   "outputs": [],
   "source": [
    "DDd = CFDD_id(3).dual()\n",
    "A = AlgebraHomology(3)\n",
    "Ad = A.dual()"
   ]
  },
  {
   "cell_type": "code",
   "execution_count": 3,
   "metadata": {},
   "outputs": [
    {
     "name": "stdout",
     "output_type": "stream",
     "text": [
      "μ(〈(1, 7)〉) = (1 ↦ 2)|(1 2 3 ↦ 1 2 4) 〈(2, 11)〉\n",
      "μ(〈(2, 11)〉) = (2 ↦ 3)|(1 2 4 ↦ 1 3 4) 〈(4, 13)〉\n",
      "μ(〈(3, 3)〉) = (1 2 ↦ 1 3)|(1 2 ↦ 1 3) 〈(5, 5)〉\n",
      "μ(〈(4, 13)〉) = (3 ↦ 4)|(1 3 4 ↦ 2 3 4) 〈(8, 14)〉\n",
      "μ(〈(5, 5)〉) = (1 3 ↦ 2 3)|(1 3 ↦ 1 4) 〈(6, 9)〉\n",
      "μ(〈(5, 5)〉) = (1 3 ↦ 1 4)|(1 3 ↦ 2 3) 〈(9, 6)〉\n",
      "μ(〈(6, 9)〉) = (2 3 ↦ 2 4)|(1 4 ↦ 2 4) 〈(10, 10)〉\n",
      "μ(〈(7, 1)〉) = (1 2 3 ↦ 1 2 4)|(1 ↦ 2) 〈(11, 2)〉\n",
      "μ(〈(9, 6)〉) = (1 4 ↦ 2 4)|(2 3 ↦ 2 4) 〈(10, 10)〉\n",
      "μ(〈(10, 10)〉) = (2 4 ↦ 3 4)|(2 4 ↦ 3 4) 〈(12, 12)〉\n",
      "μ(〈(11, 2)〉) = (1 2 4 ↦ 1 3 4)|(2 ↦ 3) 〈(13, 4)〉\n",
      "μ(〈(13, 4)〉) = (1 3 4 ↦ 2 3 4)|(3 ↦ 4) 〈(14, 8)〉\n"
     ]
    }
   ],
   "source": [
    "DD_id.show_operations(rename=False)"
   ]
  },
  {
   "cell_type": "code",
   "execution_count": 4,
   "metadata": {},
   "outputs": [
    {
     "data": {
      "text/plain": [
       "([], [])"
      ]
     },
     "execution_count": 4,
     "metadata": {},
     "output_type": "execute_result"
    }
   ],
   "source": [
    "DD_id.paths((1,7), 0, [I(1), I(7)])"
   ]
  },
  {
   "cell_type": "code",
   "execution_count": null,
   "metadata": {},
   "outputs": [],
   "source": []
  },
  {
   "cell_type": "code",
   "execution_count": 9,
   "metadata": {},
   "outputs": [],
   "source": [
    "M = MultiModule(generators={0:[I(1)], 1:[I(2)], 2:[I(2)], 3:[I(4)], 4:[I(8)]}, \\\n",
    "                arrows={0:{1:[[H(1,2)]], 2:[[H(1,2)]]}, 1:{3:[[H(2,4)],[H(2,4)]]}, 2:{3:[[H(2,4)]]}, 3:{4:[[H(4,8)]]}}, \\\n",
    "                action_types = [('D', 'left')])"
   ]
  },
  {
   "cell_type": "code",
   "execution_count": 14,
   "metadata": {},
   "outputs": [
    {
     "data": {
      "text/plain": [
       "([[]], [0])"
      ]
     },
     "execution_count": 14,
     "metadata": {},
     "output_type": "execute_result"
    }
   ],
   "source": [
    "M.paths(0,0,[])"
   ]
  },
  {
   "cell_type": "code",
   "execution_count": null,
   "metadata": {},
   "outputs": [],
   "source": []
  }
 ],
 "metadata": {
  "kernelspec": {
   "display_name": "Python 3",
   "language": "python",
   "name": "python3"
  },
  "language_info": {
   "codemirror_mode": {
    "name": "ipython",
    "version": 3
   },
   "file_extension": ".py",
   "mimetype": "text/x-python",
   "name": "python",
   "nbconvert_exporter": "python",
   "pygments_lexer": "ipython3",
   "version": "3.7.3"
  }
 },
 "nbformat": 4,
 "nbformat_minor": 2
}
